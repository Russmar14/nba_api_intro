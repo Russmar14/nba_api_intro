{
 "cells": [
  {
   "cell_type": "markdown",
   "metadata": {},
   "source": [
    "\n",
    "# Intro to NBA Data with nba_api pt 3\n",
    "## Let's learn MORE about the capabilities of the `players` module\n",
    "\n",
    "Now I want to create a plot for creating the true shooting percentage of any player over the years, by creating some functions that feed that name through and output a plot. This will build on the work in part 2.\n",
    "\n"
   ]
  },
  {
   "cell_type": "code",
   "execution_count": 10,
   "metadata": {},
   "outputs": [],
   "source": [
    "#let's import our modules and whatnot from nba_api and others:\n",
    "from nba_api.stats.static import players\n",
    "import pandas as pd\n",
    "import matplotlib.pyplot as plt\n",
    "#game log stats\n",
    "from nba_api.stats.endpoints import playergamelog\n",
    "#create parameter to feed `season` that includes all seasons for that player/team\n",
    "from nba_api.stats.library.parameters import SeasonAll \n",
    "\n",
    "\n"
   ]
  },
  {
   "cell_type": "markdown",
   "metadata": {},
   "source": [
    "First step: prompt the user for their player of interest, and catch the error if they enter a player that is not in the `.find_players_by_full_name() function"
   ]
  },
  {
   "cell_type": "code",
   "execution_count": 11,
   "metadata": {},
   "outputs": [
    {
     "name": "stdout",
     "output_type": "stream",
     "text": [
      "Good choice! You chose Giannis Antetokounmpo!\n"
     ]
    }
   ],
   "source": [
    "valid_input = False\n",
    "#loop until valid input\n",
    "while not valid_input:\n",
    "    try:\n",
    "        player_name = input(\"Please enter the full name of an NBA player: \")\n",
    "        #first list index is the dict w/id, name, and activity status\n",
    "        player = players.find_players_by_full_name(player_name)[0]\n",
    "        # If the above line doesn't raise an IndexError, the input is valid\n",
    "        valid_input = True\n",
    "    except IndexError: \n",
    "        print(\"Invalid entry. Type an NBA player's full name, separated by a space.\")\n",
    "print(f\"Good choice! You chose {player['full_name']}!\")\n"
   ]
  },
  {
   "cell_type": "code",
   "execution_count": 12,
   "metadata": {},
   "outputs": [
    {
     "data": {
      "text/plain": [
       "{'id': 203507,\n",
       " 'full_name': 'Giannis Antetokounmpo',\n",
       " 'first_name': 'Giannis',\n",
       " 'last_name': 'Antetokounmpo',\n",
       " 'is_active': True}"
      ]
     },
     "execution_count": 12,
     "metadata": {},
     "output_type": "execute_result"
    }
   ],
   "source": [
    "#let's look at the object returned, should be a player_dict\n",
    "player"
   ]
  },
  {
   "cell_type": "markdown",
   "metadata": {},
   "source": [
    "Step 2: grab that particular player's data with the `.get_data_frames()` module and select the first list element. We'll show a sample:"
   ]
  },
  {
   "cell_type": "code",
   "execution_count": 13,
   "metadata": {},
   "outputs": [
    {
     "data": {
      "text/html": [
       "<div>\n",
       "<style scoped>\n",
       "    .dataframe tbody tr th:only-of-type {\n",
       "        vertical-align: middle;\n",
       "    }\n",
       "\n",
       "    .dataframe tbody tr th {\n",
       "        vertical-align: top;\n",
       "    }\n",
       "\n",
       "    .dataframe thead th {\n",
       "        text-align: right;\n",
       "    }\n",
       "</style>\n",
       "<table border=\"1\" class=\"dataframe\">\n",
       "  <thead>\n",
       "    <tr style=\"text-align: right;\">\n",
       "      <th></th>\n",
       "      <th>SEASON_ID</th>\n",
       "      <th>Player_ID</th>\n",
       "      <th>Game_ID</th>\n",
       "      <th>GAME_DATE</th>\n",
       "      <th>MATCHUP</th>\n",
       "      <th>WL</th>\n",
       "      <th>MIN</th>\n",
       "      <th>FGM</th>\n",
       "      <th>FGA</th>\n",
       "      <th>FG_PCT</th>\n",
       "      <th>...</th>\n",
       "      <th>DREB</th>\n",
       "      <th>REB</th>\n",
       "      <th>AST</th>\n",
       "      <th>STL</th>\n",
       "      <th>BLK</th>\n",
       "      <th>TOV</th>\n",
       "      <th>PF</th>\n",
       "      <th>PTS</th>\n",
       "      <th>PLUS_MINUS</th>\n",
       "      <th>VIDEO_AVAILABLE</th>\n",
       "    </tr>\n",
       "  </thead>\n",
       "  <tbody>\n",
       "    <tr>\n",
       "      <th>341</th>\n",
       "      <td>22018</td>\n",
       "      <td>203507</td>\n",
       "      <td>0021800175</td>\n",
       "      <td>NOV 10, 2018</td>\n",
       "      <td>MIL @ LAC</td>\n",
       "      <td>L</td>\n",
       "      <td>41</td>\n",
       "      <td>11</td>\n",
       "      <td>19</td>\n",
       "      <td>0.579</td>\n",
       "      <td>...</td>\n",
       "      <td>14</td>\n",
       "      <td>18</td>\n",
       "      <td>4</td>\n",
       "      <td>5</td>\n",
       "      <td>2</td>\n",
       "      <td>6</td>\n",
       "      <td>5</td>\n",
       "      <td>27</td>\n",
       "      <td>-7</td>\n",
       "      <td>1</td>\n",
       "    </tr>\n",
       "    <tr>\n",
       "      <th>256</th>\n",
       "      <td>22019</td>\n",
       "      <td>203507</td>\n",
       "      <td>0021900347</td>\n",
       "      <td>DEC 09, 2019</td>\n",
       "      <td>MIL vs. ORL</td>\n",
       "      <td>W</td>\n",
       "      <td>35</td>\n",
       "      <td>12</td>\n",
       "      <td>22</td>\n",
       "      <td>0.545</td>\n",
       "      <td>...</td>\n",
       "      <td>11</td>\n",
       "      <td>15</td>\n",
       "      <td>8</td>\n",
       "      <td>1</td>\n",
       "      <td>1</td>\n",
       "      <td>2</td>\n",
       "      <td>3</td>\n",
       "      <td>32</td>\n",
       "      <td>8</td>\n",
       "      <td>1</td>\n",
       "    </tr>\n",
       "    <tr>\n",
       "      <th>328</th>\n",
       "      <td>22018</td>\n",
       "      <td>203507</td>\n",
       "      <td>0021800388</td>\n",
       "      <td>DEC 09, 2018</td>\n",
       "      <td>MIL @ TOR</td>\n",
       "      <td>W</td>\n",
       "      <td>37</td>\n",
       "      <td>8</td>\n",
       "      <td>15</td>\n",
       "      <td>0.533</td>\n",
       "      <td>...</td>\n",
       "      <td>14</td>\n",
       "      <td>19</td>\n",
       "      <td>6</td>\n",
       "      <td>0</td>\n",
       "      <td>1</td>\n",
       "      <td>2</td>\n",
       "      <td>3</td>\n",
       "      <td>19</td>\n",
       "      <td>9</td>\n",
       "      <td>1</td>\n",
       "    </tr>\n",
       "    <tr>\n",
       "      <th>703</th>\n",
       "      <td>22013</td>\n",
       "      <td>203507</td>\n",
       "      <td>0021300702</td>\n",
       "      <td>FEB 01, 2014</td>\n",
       "      <td>MIL @ MEM</td>\n",
       "      <td>L</td>\n",
       "      <td>20</td>\n",
       "      <td>1</td>\n",
       "      <td>3</td>\n",
       "      <td>0.333</td>\n",
       "      <td>...</td>\n",
       "      <td>0</td>\n",
       "      <td>0</td>\n",
       "      <td>1</td>\n",
       "      <td>1</td>\n",
       "      <td>0</td>\n",
       "      <td>2</td>\n",
       "      <td>1</td>\n",
       "      <td>3</td>\n",
       "      <td>2</td>\n",
       "      <td>1</td>\n",
       "    </tr>\n",
       "    <tr>\n",
       "      <th>458</th>\n",
       "      <td>22016</td>\n",
       "      <td>203507</td>\n",
       "      <td>0021600761</td>\n",
       "      <td>FEB 04, 2017</td>\n",
       "      <td>MIL @ PHX</td>\n",
       "      <td>W</td>\n",
       "      <td>34</td>\n",
       "      <td>12</td>\n",
       "      <td>20</td>\n",
       "      <td>0.600</td>\n",
       "      <td>...</td>\n",
       "      <td>10</td>\n",
       "      <td>12</td>\n",
       "      <td>6</td>\n",
       "      <td>0</td>\n",
       "      <td>4</td>\n",
       "      <td>4</td>\n",
       "      <td>4</td>\n",
       "      <td>30</td>\n",
       "      <td>34</td>\n",
       "      <td>1</td>\n",
       "    </tr>\n",
       "  </tbody>\n",
       "</table>\n",
       "<p>5 rows × 27 columns</p>\n",
       "</div>"
      ],
      "text/plain": [
       "    SEASON_ID  Player_ID     Game_ID     GAME_DATE      MATCHUP WL  MIN  FGM  \\\n",
       "341     22018     203507  0021800175  NOV 10, 2018    MIL @ LAC  L   41   11   \n",
       "256     22019     203507  0021900347  DEC 09, 2019  MIL vs. ORL  W   35   12   \n",
       "328     22018     203507  0021800388  DEC 09, 2018    MIL @ TOR  W   37    8   \n",
       "703     22013     203507  0021300702  FEB 01, 2014    MIL @ MEM  L   20    1   \n",
       "458     22016     203507  0021600761  FEB 04, 2017    MIL @ PHX  W   34   12   \n",
       "\n",
       "     FGA  FG_PCT  ...  DREB  REB  AST  STL  BLK  TOV  PF  PTS  PLUS_MINUS  \\\n",
       "341   19   0.579  ...    14   18    4    5    2    6   5   27          -7   \n",
       "256   22   0.545  ...    11   15    8    1    1    2   3   32           8   \n",
       "328   15   0.533  ...    14   19    6    0    1    2   3   19           9   \n",
       "703    3   0.333  ...     0    0    1    1    0    2   1    3           2   \n",
       "458   20   0.600  ...    10   12    6    0    4    4   4   30          34   \n",
       "\n",
       "     VIDEO_AVAILABLE  \n",
       "341                1  \n",
       "256                1  \n",
       "328                1  \n",
       "703                1  \n",
       "458                1  \n",
       "\n",
       "[5 rows x 27 columns]"
      ]
     },
     "execution_count": 13,
     "metadata": {},
     "output_type": "execute_result"
    }
   ],
   "source": [
    "#Next, we use that player's 'id' value to call their logs up\n",
    "player_log = playergamelog.PlayerGameLog(player_id = player['id'],season = SeasonAll.all)\n",
    "player_df = player_log.get_data_frames()[0]\n",
    "player_df.sample(5)"
   ]
  },
  {
   "cell_type": "markdown",
   "metadata": {},
   "source": [
    "Step 2.5: We'll quickly make a change to the data frame so that the season column has a better name and make the year an accurate year (take off the extra 2, as we saw in the sample that each year was written '220XX')."
   ]
  },
  {
   "cell_type": "code",
   "execution_count": 14,
   "metadata": {},
   "outputs": [],
   "source": [
    "player_df.rename(columns = {'SEASON_ID':'SEASON'},inplace = True) #rename column for season_id to season\n",
    "player_df['SEASON'] = player_df['SEASON'].str.slice(1) #get rid of first digit in that string"
   ]
  },
  {
   "cell_type": "markdown",
   "metadata": {},
   "source": [
    "Step 3: Now that we've got the player's game logs pulled up as a df, let's create a true shooting stat for each season and plot it. \n",
    "True shooting is explained in part 2 and is created using Pts, Fga and Fta from our game logs data frame for this player."
   ]
  },
  {
   "cell_type": "code",
   "execution_count": 15,
   "metadata": {},
   "outputs": [
    {
     "data": {
      "image/png": "[encoded data removed]",
      "text/plain": [
       "<Figure size 640x480 with 1 Axes>"
      ]
     },
     "metadata": {},
     "output_type": "display_data"
    }
   ],
   "source": [
    "\n",
    "player_TS_df = (player_df.groupby('SEASON') #group by season\n",
    "    .agg(({'FGA':'sum','PTS':'sum','FTA':'sum'})) # aggregate sums for our variables of interest\n",
    "    .assign(TS = lambda x:(.5*x['PTS'])/(x['FGA']+ (.475*x['FTA']))*100) #create TS column for TS%\n",
    "    .round(2) #round this column to 2\n",
    "    [['TS']] # Select only the relevant column (and SEASON, as it's our groups)\n",
    "    )\n",
    "\n",
    "#let's make a max and min for our plot that correspond with the TS values\n",
    "ymax = player_TS_df['TS'].max()\n",
    "ymin = player_TS_df['TS'].min()\n",
    "\n",
    "#now make a plot the TS data frame\n",
    "player_TS_df.plot()\n",
    "#with changes using matplotlib.pyplot\n",
    "plt.title(f\"{player['first_name']}'s TS% over the years\")\n",
    "plt.xlabel(\"Year\")\n",
    "plt.ylabel(\"TS%\")\n",
    "plt.xticks(rotation = 45) #rotate x ticks 45˚\n",
    "plt.ylim(top = ymax + 3,bottom = ymin -3)\n",
    "plt.show()\n"
   ]
  }
 ],
 "metadata": {
  "interpreter": {
   "hash": "552eff63ae26b1f7715ef9da8940d59e9923cc9f3696b79d9372b91e56e1a4b8"
  },
  "kernelspec": {
   "display_name": "Python 3.9.13",
   "language": "python",
   "name": "python3"
  },
  "language_info": {
   "codemirror_mode": {
    "name": "ipython",
    "version": 3
   },
   "file_extension": ".py",
   "mimetype": "text/x-python",
   "name": "python",
   "nbconvert_exporter": "python",
   "pygments_lexer": "ipython3",
   "version": "3.9.13"
  },
  "orig_nbformat": 4
 },
 "nbformat": 4,
 "nbformat_minor": 2
}
